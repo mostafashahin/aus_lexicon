{
 "metadata": {
  "language_info": {
   "codemirror_mode": {
    "name": "ipython",
    "version": 3
   },
   "file_extension": ".py",
   "mimetype": "text/x-python",
   "name": "python",
   "nbconvert_exporter": "python",
   "pygments_lexer": "ipython3",
   "version": "3.7.6-final"
  },
  "orig_nbformat": 2,
  "kernelspec": {
   "name": "python3",
   "display_name": "Python 3"
  }
 },
 "nbformat": 4,
 "nbformat_minor": 2,
 "cells": [
  {
   "cell_type": "code",
   "execution_count": 70,
   "metadata": {},
   "outputs": [],
   "source": [
    "import dict_tool.dict_master as dm\n",
    "from collections import defaultdict\n",
    "from importlib import reload"
   ]
  },
  {
   "cell_type": "code",
   "execution_count": 71,
   "metadata": {
    "tags": []
   },
   "outputs": [],
   "source": [
    "#Load ALD dict\n",
    "reload(dm)\n",
    "inst_dm = dm.DictMaster(sPhonemesFile='data/ald_phones.list',sNonPhonesFile='data/nonPhonesSymbols')\n",
    "dLexicon_ald = inst_dm.loadDict(sDictFile='dicts/ALD_corrected_241120.tsv',sMapFile='data/ald_correct.map', bAddBndr=True)"
   ]
  },
  {
   "cell_type": "code",
   "execution_count": 72,
   "metadata": {},
   "outputs": [],
   "source": [
    "#Convert ALD to asr set\n",
    "dLexicon_ald_asr = inst_dm.mapPhone(dLexicon_ald,'data/ald2asr.map')"
   ]
  },
  {
   "cell_type": "code",
   "execution_count": 73,
   "metadata": {
    "tags": []
   },
   "outputs": [],
   "source": [
    "#Load faae dict\n",
    "inst_dm = dm.DictMaster(sPhonemesFile='data/faae_phones.list',sNonPhonesFile='data/nonPhonesSymbols')\n",
    "dLexicon_faae = inst_dm.loadDict(sDictFile='dicts/faae.dict', bAddBndr=True)"
   ]
  },
  {
   "cell_type": "code",
   "execution_count": 74,
   "metadata": {},
   "outputs": [],
   "source": [
    "#Convert faae to asr set\n",
    "dLexicon_faae_asr = inst_dm.mapPhone(dLexicon_faae,'data/faae2asr.map')"
   ]
  },
  {
   "cell_type": "code",
   "execution_count": 75,
   "metadata": {},
   "outputs": [],
   "source": [
    "#Load AusKidTalk dict\n",
    "inst_dm = dm.DictMaster(sPhonemesFile='data/sampa_au.list',sNonPhonesFile='data/nonPhonesSymbols')\n",
    "dLexicon_akt = inst_dm.loadDict(sDictFile='dicts/AusKidTalk.dict', bAddBndr=True)"
   ]
  },
  {
   "cell_type": "code",
   "execution_count": 76,
   "metadata": {},
   "outputs": [],
   "source": [
    "#Convert faae to asr set\n",
    "dLexicon_akt_asr = inst_dm.mapPhone(dLexicon_akt,'data/sampa2asr.map')"
   ]
  },
  {
   "cell_type": "code",
   "execution_count": 77,
   "metadata": {
    "tags": []
   },
   "outputs": [],
   "source": [
    "#Load Austalk\n",
    "inst_dm = dm.DictMaster(sPhonemesFile='data/sampa_au_r.list',sNonPhonesFile='data/nonPhonesSymbols')\n",
    "dLexicon_at = inst_dm.loadDict(sDictFile='dicts/AusTalk.tsv', bAddBndr=True)"
   ]
  },
  {
   "cell_type": "code",
   "execution_count": 78,
   "metadata": {},
   "outputs": [],
   "source": [
    "#Convert faae to asr set\n",
    "dLexicon_at_asr = inst_dm.mapPhone(dLexicon_at,'data/sampa2asr.map')"
   ]
  },
  {
   "cell_type": "code",
   "execution_count": 79,
   "metadata": {},
   "outputs": [],
   "source": [
    "inst_dm = dm.DictMaster(sPhonemesFile='data/asr_phoneme.list',sNonPhonesFile='data/nonPhonesSymbols')\n",
    "dLexicon_merge = inst_dm.MergeDict([dLexicon_ald_asr,dLexicon_faae_asr,dLexicon_akt_asr,dLexicon_at_asr])"
   ]
  },
  {
   "cell_type": "code",
   "execution_count": 80,
   "metadata": {
    "tags": []
   },
   "outputs": [],
   "source": [
    "inst_dm.Validate(dLexicon_merge)"
   ]
  },
  {
   "cell_type": "code",
   "execution_count": 81,
   "metadata": {},
   "outputs": [
    {
     "output_type": "execute_result",
     "data": {
      "text/plain": [
       "18296"
      ]
     },
     "metadata": {},
     "execution_count": 81
    }
   ],
   "source": [
    "len(dLexicon_merge)"
   ]
  },
  {
   "cell_type": "code",
   "execution_count": 82,
   "metadata": {},
   "outputs": [],
   "source": [
    "inst_dm.WriteDict(dLexicon_merge,'dicts/lexicon.txt')"
   ]
  },
  {
   "cell_type": "code",
   "execution_count": null,
   "metadata": {},
   "outputs": [],
   "source": []
  }
 ]
}