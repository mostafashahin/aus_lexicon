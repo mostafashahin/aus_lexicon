{
 "metadata": {
  "language_info": {
   "codemirror_mode": {
    "name": "ipython",
    "version": 3
   },
   "file_extension": ".py",
   "mimetype": "text/x-python",
   "name": "python",
   "nbconvert_exporter": "python",
   "pygments_lexer": "ipython3",
   "version": "3.7.6-final"
  },
  "orig_nbformat": 2,
  "kernelspec": {
   "name": "python3",
   "display_name": "Python 3",
   "language": "python"
  }
 },
 "nbformat": 4,
 "nbformat_minor": 2,
 "cells": [
  {
   "cell_type": "code",
   "execution_count": 15,
   "metadata": {},
   "outputs": [],
   "source": [
    "import dict_tool.dict_master as dm\n",
    "from collections import defaultdict\n",
    "from importlib import reload"
   ]
  },
  {
   "cell_type": "code",
   "execution_count": 16,
   "metadata": {
    "tags": []
   },
   "outputs": [],
   "source": [
    "#Load ALD dict\n",
    "reload(dm)\n",
    "inst_dm = dm.DictMaster(sPhonemesFile='data/ald_phoneme.list',sNonPhonesFile='data/nonPhonesSymbols')\n",
    "dLexicon_ald = inst_dm.loadDict(sDictFile='dicts/ALD_corrected_241120.tsv',sMapFile='data/ald_correct.map', bAddBndr=True)"
   ]
  },
  {
   "cell_type": "code",
   "execution_count": 17,
   "metadata": {},
   "outputs": [],
   "source": [
    "#Convert ALD to asr set\n",
    "dLexicon_ald_asr = inst_dm.mapPhone(dLexicon_ald,'data/ald2asr.map')"
   ]
  },
  {
   "cell_type": "code",
   "execution_count": 18,
   "metadata": {
    "tags": []
   },
   "outputs": [],
   "source": [
    "#Load faae dict\n",
    "inst_dm = dm.DictMaster(sPhonemesFile='data/faae_phones.list',sNonPhonesFile='data/nonPhonesSymbols')\n",
    "dLexicon_faae = inst_dm.loadDict(sDictFile='dicts/faae.dict', bAddBndr=True)"
   ]
  },
  {
   "cell_type": "code",
   "execution_count": 19,
   "metadata": {},
   "outputs": [],
   "source": [
    "#Convert faae to asr set\n",
    "dLexicon_faae_asr = inst_dm.mapPhone(dLexicon_faae,'data/faae2asr.map')"
   ]
  },
  {
   "cell_type": "code",
   "execution_count": 22,
   "metadata": {},
   "outputs": [],
   "source": [
    "#Load AusKidTalk dict\n",
    "inst_dm = dm.DictMaster(sPhonemesFile='data/sampa_phoneme.list',sNonPhonesFile='data/nonPhonesSymbols')\n",
    "dLexicon_akt = inst_dm.loadDict(sDictFile='dicts/AusKidTalk.dict', bAddBndr=True)"
   ]
  },
  {
   "cell_type": "code",
   "execution_count": 23,
   "metadata": {},
   "outputs": [],
   "source": [
    "#Convert akt to asr set\n",
    "dLexicon_akt_asr = inst_dm.mapPhone(dLexicon_akt,'data/sampa2asr.map')"
   ]
  },
  {
   "cell_type": "code",
   "execution_count": 24,
   "metadata": {
    "tags": []
   },
   "outputs": [],
   "source": [
    "#Load Austalk\n",
    "inst_dm = dm.DictMaster(sPhonemesFile='data/sampa_phoneme.list',sNonPhonesFile='data/nonPhonesSymbols')\n",
    "dLexicon_at = inst_dm.loadDict(sDictFile='dicts/AusTalk.tsv', bAddBndr=True)"
   ]
  },
  {
   "cell_type": "code",
   "execution_count": 25,
   "metadata": {},
   "outputs": [],
   "source": [
    "#Convert at to asr set\n",
    "dLexicon_at_asr = inst_dm.mapPhone(dLexicon_at,'data/sampa2asr.map')"
   ]
  },
  {
   "cell_type": "code",
   "execution_count": 34,
   "metadata": {},
   "outputs": [],
   "source": [
    "inst_dm = dm.DictMaster(sPhonemesFile='data/asr_phoneme.list', sNonPhonesFile='data/nonPhonesSymbols')\n",
    "dLexicon_cmu = inst_dm.loadDict(sDictFile='g2p/phonetisaurus/data/aus_gen_cmu.dict' , bAddBndr=False)"
   ]
  },
  {
   "cell_type": "code",
   "execution_count": 35,
   "metadata": {},
   "outputs": [
    {
     "output_type": "execute_result",
     "data": {
      "text/plain": [
       "130887"
      ]
     },
     "metadata": {},
     "execution_count": 35
    }
   ],
   "source": [
    "inst_dm = dm.DictMaster(sPhonemesFile='data/asr_phoneme.list',sNonPhonesFile='data/nonPhonesSymbols')\n",
    "dLexicon_merge = inst_dm.MergeDict([dLexicon_ald_asr,dLexicon_faae_asr,dLexicon_akt_asr,dLexicon_at_asr,dLexicon_cmu])\n",
    "inst_dm.Validate(dLexicon_merge)\n",
    "inst_dm.WriteDict(dLexicon_merge,'dicts/lexicon.txt')\n",
    "len(dLexicon_merge)\n",
    "#dLexicon_merge = inst_dm.MergeDict([dLexicon_ald_asr,dLexicon_faae_asr,dLexicon_akt_asr])"
   ]
  },
  {
   "cell_type": "code",
   "execution_count": 16,
   "metadata": {},
   "outputs": [],
   "source": [
    "inst_dm.WriteDict(dLexicon_merge,'dicts/lexicon_au_asr.txt')"
   ]
  },
  {
   "cell_type": "code",
   "execution_count": 14,
   "metadata": {},
   "outputs": [
    {
     "output_type": "execute_result",
     "data": {
      "text/plain": [
       "{'D @', 'w O z'}"
      ]
     },
     "metadata": {},
     "execution_count": 14
    }
   ],
   "source": [
    "dLexicon_faae['WAS']"
   ]
  },
  {
   "source": [
    "## G2P model data"
   ],
   "cell_type": "markdown",
   "metadata": {}
  },
  {
   "cell_type": "code",
   "execution_count": 26,
   "metadata": {
    "tags": []
   },
   "outputs": [],
   "source": [
    "#Train dicts\n",
    "train_dicts = [dLexicon_ald_asr,dLexicon_faae_asr,dLexicon_akt_asr,dLexicon_at_asr]\n",
    "#train_dicts = [dLexicon_ald_asr,dLexicon_akt_asr]\n",
    "test_dicts = [dLexicon_at_asr]\n",
    "inst_dm = dm.DictMaster(sPhonemesFile='data/asr_phoneme.list',sNonPhonesFile='data/nonPhonesSymbols')\n",
    "dLexicon_train = inst_dm.MergeDict(train_dicts)\n",
    "dLexicon_test = inst_dm.MergeDict(test_dicts)\n",
    "dLexicon_test = dict([(k,v) for k,v in dLexicon_test.items() if k not in dLexicon_train])\n",
    "inst_dm.WriteDict(dLexicon_train,'g2p/lexicon_train.txt')\n",
    "inst_dm.WriteDict(dLexicon_test,'g2p/lexicon_test.txt')"
   ]
  },
  {
   "cell_type": "code",
   "execution_count": 32,
   "metadata": {
    "tags": []
   },
   "outputs": [],
   "source": [
    "#Load cmu dict\n",
    "inst_dm = dm.DictMaster(sPhonemesFile='data/cmu_phoneme.list')\n",
    "dCMU = inst_dm.loadDict(sDictFile='data/cmudict.formatted_upp.dict')\n",
    "#Creat arpa to aus train dict\n",
    "with open('g2p/arpa2aus.dict','w') as f:\n",
    "    for wrd in dLexicon_train:\n",
    "        if wrd in dCMU:\n",
    "            for trans1 in dLexicon_train[wrd]:\n",
    "                for trans2 in dCMU[wrd]:\n",
    "                    print('{0}\\t{1}'.format(trans2,trans1),file=f)\n",
    "with open('g2p/arpa2aus_test.dict','w') as f, open('g2p/arpa2aus_test.wrd','w') as fwrd:\n",
    "    for wrd in dLexicon_test:\n",
    "        if wrd in dCMU:\n",
    "            for trans1 in dLexicon_test[wrd]:\n",
    "                for trans2 in dCMU[wrd]:\n",
    "                    print(wrd,file=fwrd)\n",
    "                    print('{0}\\t{1}'.format(trans2,trans1),file=f)"
   ]
  },
  {
   "cell_type": "code",
   "execution_count": 33,
   "metadata": {},
   "outputs": [
    {
     "output_type": "execute_result",
     "data": {
      "text/plain": [
       "{}"
      ]
     },
     "metadata": {},
     "execution_count": 33
    }
   ],
   "source": [
    "dLexicon_test"
   ]
  },
  {
   "cell_type": "code",
   "execution_count": 81,
   "metadata": {},
   "outputs": [],
   "source": [
    "dCMU_wrds = inst_dm.SearchDict('g2p/train_wrd_list',[dCMU])"
   ]
  },
  {
   "cell_type": "code",
   "execution_count": 44,
   "metadata": {},
   "outputs": [],
   "source": [
    "inst_dm.WriteDict(dLexicon_merge,'dicts/lexicon.txt')"
   ]
  },
  {
   "cell_type": "code",
   "execution_count": 56,
   "metadata": {},
   "outputs": [],
   "source": [
    "inst_dm.WriteDict(dLexicon_test,'dicts/lexicon_test.txt')"
   ]
  },
  {
   "cell_type": "code",
   "execution_count": null,
   "metadata": {},
   "outputs": [],
   "source": [
    "for wrd in "
   ]
  }
 ]
}